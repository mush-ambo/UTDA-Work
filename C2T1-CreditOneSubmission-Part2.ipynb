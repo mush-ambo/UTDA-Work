{
 "cells": [
  {
   "cell_type": "code",
   "execution_count": 1,
   "id": "22041e9e",
   "metadata": {},
   "outputs": [],
   "source": [
    "## Imports\n",
    "import numpy as np\n",
    "import pandas as pd\n",
    "import seaborn as sns\n",
    "import matplotlib.pyplot as plt\n",
    "from pandas_profiling import ProfileReport"
   ]
  },
  {
   "cell_type": "code",
   "execution_count": 2,
   "id": "92f5ce04",
   "metadata": {},
   "outputs": [],
   "source": [
    "data=pd.read_csv('C2T1-Cleaned.csv')\n",
    "data.drop(columns='Unnamed: 0', inplace=True)\n",
    "#data.info()"
   ]
  },
  {
   "cell_type": "code",
   "execution_count": 3,
   "id": "c37ee459",
   "metadata": {},
   "outputs": [
    {
     "name": "stdout",
     "output_type": "stream",
     "text": [
      "(0, 25)\n"
     ]
    }
   ],
   "source": [
    "data = data.apply(pd.to_numeric, errors='ignore')\n",
    "data.isnull().any()\n",
    "duplicates=data[data.duplicated()]\n",
    "print(duplicates.shape) "
   ]
  },
  {
   "cell_type": "code",
   "execution_count": 4,
   "id": "0d84a575",
   "metadata": {},
   "outputs": [
    {
     "name": "stdout",
     "output_type": "stream",
     "text": [
      "<class 'pandas.core.frame.DataFrame'>\n",
      "RangeIndex: 30000 entries, 0 to 29999\n",
      "Data columns (total 30 columns):\n",
      " #   Column                     Non-Null Count  Dtype\n",
      "---  ------                     --------------  -----\n",
      " 0   ID                         30000 non-null  int64\n",
      " 1   LIMIT_BAL                  30000 non-null  int64\n",
      " 2   MARRIAGE                   30000 non-null  int64\n",
      " 3   AGE                        30000 non-null  int64\n",
      " 4   PAY_1                      30000 non-null  int64\n",
      " 5   PAY_2                      30000 non-null  int64\n",
      " 6   PAY_3                      30000 non-null  int64\n",
      " 7   PAY_4                      30000 non-null  int64\n",
      " 8   PAY_5                      30000 non-null  int64\n",
      " 9   PAY_6                      30000 non-null  int64\n",
      " 10  BILL_AMT1                  30000 non-null  int64\n",
      " 11  BILL_AMT2                  30000 non-null  int64\n",
      " 12  BILL_AMT3                  30000 non-null  int64\n",
      " 13  BILL_AMT4                  30000 non-null  int64\n",
      " 14  BILL_AMT5                  30000 non-null  int64\n",
      " 15  BILL_AMT6                  30000 non-null  int64\n",
      " 16  PAY_AMT1                   30000 non-null  int64\n",
      " 17  PAY_AMT2                   30000 non-null  int64\n",
      " 18  PAY_AMT3                   30000 non-null  int64\n",
      " 19  PAY_AMT4                   30000 non-null  int64\n",
      " 20  PAY_AMT5                   30000 non-null  int64\n",
      " 21  PAY_AMT6                   30000 non-null  int64\n",
      " 22  SEX_female                 30000 non-null  uint8\n",
      " 23  SEX_male                   30000 non-null  uint8\n",
      " 24  EDUCATION_graduate school  30000 non-null  uint8\n",
      " 25  EDUCATION_high school      30000 non-null  uint8\n",
      " 26  EDUCATION_other            30000 non-null  uint8\n",
      " 27  EDUCATION_university       30000 non-null  uint8\n",
      " 28  def_next_default           30000 non-null  uint8\n",
      " 29  def_next_not default       30000 non-null  uint8\n",
      "dtypes: int64(22), uint8(8)\n",
      "memory usage: 5.3 MB\n",
      "None\n"
     ]
    },
    {
     "data": {
      "application/vnd.jupyter.widget-view+json": {
       "model_id": "fceb671682c446b1992fa02763f3fc64",
       "version_major": 2,
       "version_minor": 0
      },
      "text/plain": [
       "Summarize dataset:   0%|          | 0/44 [00:00<?, ?it/s]"
      ]
     },
     "metadata": {},
     "output_type": "display_data"
    },
    {
     "data": {
      "application/vnd.jupyter.widget-view+json": {
       "model_id": "14b4885748c349a0ace208c32b865b06",
       "version_major": 2,
       "version_minor": 0
      },
      "text/plain": [
       "Generate report structure:   0%|          | 0/1 [00:00<?, ?it/s]"
      ]
     },
     "metadata": {},
     "output_type": "display_data"
    },
    {
     "data": {
      "application/vnd.jupyter.widget-view+json": {
       "model_id": "14ed37ba4cc1479ea428d48953de0b3d",
       "version_major": 2,
       "version_minor": 0
      },
      "text/plain": [
       "Render HTML:   0%|          | 0/1 [00:00<?, ?it/s]"
      ]
     },
     "metadata": {},
     "output_type": "display_data"
    },
    {
     "data": {
      "application/vnd.jupyter.widget-view+json": {
       "model_id": "a76b16a6d62c47bbaf823304e9fcee89",
       "version_major": 2,
       "version_minor": 0
      },
      "text/plain": [
       "Export report to file:   0%|          | 0/1 [00:00<?, ?it/s]"
      ]
     },
     "metadata": {},
     "output_type": "display_data"
    }
   ],
   "source": [
    "# Create dummy variables primarily for Gender, Education, and Default\n",
    "data=pd.get_dummies(data)\n",
    "print(data.info())\n",
    "\n",
    "#Run Pandas Profiling, Save to HTML\n",
    "report=data.profile_report()\n",
    "report.to_file(\"C2T1-CleanedEDA.html\")"
   ]
  },
  {
   "cell_type": "code",
   "execution_count": 5,
   "id": "132ed2f5",
   "metadata": {
    "scrolled": true
   },
   "outputs": [
    {
     "name": "stdout",
     "output_type": "stream",
     "text": [
      "<class 'pandas.core.frame.DataFrame'>\n",
      "RangeIndex: 30000 entries, 0 to 29999\n",
      "Data columns (total 10 columns):\n",
      " #   Column         Non-Null Count  Dtype  \n",
      "---  ------         --------------  -----  \n",
      " 0   Total_Bill     30000 non-null  int64  \n",
      " 1   Total_Paid     30000 non-null  int64  \n",
      " 2   Net_Borrow     30000 non-null  int64  \n",
      " 3   Debt_Usage1    30000 non-null  float64\n",
      " 4   Debt_Usage2    30000 non-null  float64\n",
      " 5   Debt_Usage3    30000 non-null  float64\n",
      " 6   Debt_Usage4    30000 non-null  float64\n",
      " 7   Debt_Usage5    30000 non-null  float64\n",
      " 8   Debt_Usage6    30000 non-null  float64\n",
      " 9   Debt_UsageAVG  30000 non-null  float64\n",
      "dtypes: float64(7), int64(3)\n",
      "memory usage: 2.3 MB\n",
      "None\n",
      "False\n"
     ]
    }
   ],
   "source": [
    "## Creation of new variables per customer: \n",
    "#Debt_Usage[1-6]: Monthly Bill as % of Total Limit\n",
    "#Total_Bill: Total Billed amount throughout period\n",
    "#Total_Paid: Total paid amount throughout period\n",
    "\n",
    "DerivedVars=pd.DataFrame()\n",
    "\n",
    "## Customer cumulatives throughout six month period\n",
    "DerivedVars['Total_Bill']=data.iloc[:,10:16].sum(axis=1) ## axis part was key difference vs. initial attempts\n",
    "DerivedVars['Total_Paid']=data.iloc[:,16:22].sum(axis=1)\n",
    "DerivedVars['Net_Borrow']=DerivedVars['Total_Bill']-DerivedVars['Total_Paid']\n",
    "\n",
    "## Monthly Debt_Usage \n",
    "DerivedVars['Debt_Usage1']=(data['BILL_AMT1'] / data['LIMIT_BAL'])\n",
    "DerivedVars['Debt_Usage2']=(data['BILL_AMT2'] / data['LIMIT_BAL'])\n",
    "DerivedVars['Debt_Usage3']=(data['BILL_AMT3'] / data['LIMIT_BAL'])\n",
    "DerivedVars['Debt_Usage4']=(data['BILL_AMT4'] / data['LIMIT_BAL'])\n",
    "DerivedVars['Debt_Usage5']=(data['BILL_AMT5'] / data['LIMIT_BAL'])\n",
    "DerivedVars['Debt_Usage6']=(data['BILL_AMT6'] / data['LIMIT_BAL'])\n",
    "DerivedVars['Debt_UsageAVG']=(DerivedVars.iloc[:,3:8].sum(axis=1)/6)\n",
    "\n",
    "print(DerivedVars.info())\n",
    "print(DerivedVars['Debt_Usage6'].isna().any()) ## No nulls in Total_Bill, _Paid, Net_Borrow, or monthly Debt Usages\n",
    "#print(DerivedVars.shape)\n",
    "\n",
    "## Combine with original dataset\n",
    "\n",
    "New=pd.merge(data,DerivedVars,how='outer', on=data['ID'])\n",
    "New=New.drop(columns=['key_0'])\n",
    "\n",
    "## Can't do this given 0's in denominators\n",
    "\n",
    "#Bill_Percent[1-6]: Paid Amount as % of Previous \n",
    "\n",
    "#DerivedVars['Bill_Percent1']=(data['PAY_AMT1'] / data['BILL_AMT1'])\n",
    "#DerivedVars['Bill_Percent2']=(data['PAY_AMT2'] / data['BILL_AMT2'])\n",
    "#DerivedVars['Bill_Percent3']=(data['PAY_AMT3'] / data['BILL_AMT3'])\n",
    "#DerivedVars['Bill_Percent4']=(data['PAY_AMT4'] / data['BILL_AMT4'])\n",
    "#DerivedVars['Bill_Percent5']=(data['PAY_AMT5'] / data['BILL_AMT5'])\n",
    "#DerivedVars['Bill_Percent6']=(data['PAY_AMT6'] / data['BILL_AMT6'])\n",
    "#DerivedVars['Bill_PercentAVG']=((Bill_Percent1+Bill_Percent2+Bill_Percent3+Bill_Percent4+Bill_Percent5+Bill_Percent6))"
   ]
  },
  {
   "cell_type": "code",
   "execution_count": 6,
   "id": "9bc2d38f",
   "metadata": {},
   "outputs": [
    {
     "name": "stdout",
     "output_type": "stream",
     "text": [
      "<class 'pandas.core.frame.DataFrame'>\n",
      "Int64Index: 30000 entries, 0 to 29999\n",
      "Data columns (total 50 columns):\n",
      " #   Column                     Non-Null Count  Dtype  \n",
      "---  ------                     --------------  -----  \n",
      " 0   ID                         30000 non-null  int64  \n",
      " 1   LIMIT_BAL                  30000 non-null  int64  \n",
      " 2   MARRIAGE                   30000 non-null  int64  \n",
      " 3   AGE                        30000 non-null  int64  \n",
      " 4   PAY_1                      30000 non-null  int64  \n",
      " 5   PAY_2                      30000 non-null  int64  \n",
      " 6   PAY_3                      30000 non-null  int64  \n",
      " 7   PAY_4                      30000 non-null  int64  \n",
      " 8   PAY_5                      30000 non-null  int64  \n",
      " 9   PAY_6                      30000 non-null  int64  \n",
      " 10  BILL_AMT1                  30000 non-null  int64  \n",
      " 11  BILL_AMT2                  30000 non-null  int64  \n",
      " 12  BILL_AMT3                  30000 non-null  int64  \n",
      " 13  BILL_AMT4                  30000 non-null  int64  \n",
      " 14  BILL_AMT5                  30000 non-null  int64  \n",
      " 15  BILL_AMT6                  30000 non-null  int64  \n",
      " 16  PAY_AMT1                   30000 non-null  int64  \n",
      " 17  PAY_AMT2                   30000 non-null  int64  \n",
      " 18  PAY_AMT3                   30000 non-null  int64  \n",
      " 19  PAY_AMT4                   30000 non-null  int64  \n",
      " 20  PAY_AMT5                   30000 non-null  int64  \n",
      " 21  PAY_AMT6                   30000 non-null  int64  \n",
      " 22  SEX_female                 30000 non-null  uint8  \n",
      " 23  SEX_male                   30000 non-null  uint8  \n",
      " 24  EDUCATION_graduate school  30000 non-null  uint8  \n",
      " 25  EDUCATION_high school      30000 non-null  uint8  \n",
      " 26  EDUCATION_other            30000 non-null  uint8  \n",
      " 27  EDUCATION_university       30000 non-null  uint8  \n",
      " 28  def_next_default           30000 non-null  uint8  \n",
      " 29  def_next_not default       30000 non-null  uint8  \n",
      " 30  Total_Bill                 30000 non-null  int64  \n",
      " 31  Total_Paid                 30000 non-null  int64  \n",
      " 32  Net_Borrow                 30000 non-null  int64  \n",
      " 33  Debt_Usage1                30000 non-null  float64\n",
      " 34  Debt_Usage2                30000 non-null  float64\n",
      " 35  Debt_Usage3                30000 non-null  float64\n",
      " 36  Debt_Usage4                30000 non-null  float64\n",
      " 37  Debt_Usage5                30000 non-null  float64\n",
      " 38  Debt_Usage6                30000 non-null  float64\n",
      " 39  Debt_UsageAVG              30000 non-null  float64\n",
      " 40  PrevRel                    30000 non-null  int64  \n",
      " 41  ED_CollegePlus             30000 non-null  int64  \n",
      " 42  Behind1                    30000 non-null  int64  \n",
      " 43  Behind2                    30000 non-null  int64  \n",
      " 44  Behind3                    30000 non-null  int64  \n",
      " 45  Behind4                    30000 non-null  int64  \n",
      " 46  Behind5                    30000 non-null  int64  \n",
      " 47  Behind6                    30000 non-null  int64  \n",
      " 48  EvBehind                   30000 non-null  int64  \n",
      " 49  AvgPayTime                 30000 non-null  float64\n",
      "dtypes: float64(8), int64(34), uint8(8)\n",
      "memory usage: 10.1 MB\n",
      "None\n"
     ]
    }
   ],
   "source": [
    "## Even more dummy variables to explore other potential dynamics in the data\n",
    "\n",
    "## New dummy for anything BUT single status\n",
    "New['PrevRel'] = ((New['MARRIAGE'] !=2)).astype(int) \n",
    "\n",
    "## Education is University or higher\n",
    "New['ED_CollegePlus'] = ((New['EDUCATION_university'] == 1) | (New['EDUCATION_graduate school'] == 1) *1)\n",
    "New['ED_CollegePlus'] = (New['ED_CollegePlus']).astype(int)\n",
    "\n",
    "# Code as 1 if they're at least 1 month late\n",
    "New['Behind1'] = (New['PAY_1'] >= 1).astype(int)\n",
    "New['Behind2'] = (New['PAY_2'] >= 1).astype(int)\n",
    "New['Behind3'] = (New['PAY_3'] >= 1).astype(int)\n",
    "New['Behind4'] = (New['PAY_4'] >= 1).astype(int)\n",
    "New['Behind5'] = (New['PAY_5'] >= 1).astype(int)\n",
    "New['Behind6'] = (New['PAY_6'] >= 1).astype(int)\n",
    "New['EvBehind'] = New.loc[:,'Behind1':'Behind6'].any(axis=1).astype(int)\n",
    "\n",
    "# Mean of customer's PAY_ status codes over the six months\n",
    "# Higher values signify tend to pay late, per supplement coding\n",
    "New['AvgPayTime']=(New.loc[:,'PAY_1':'PAY_6'].mean(axis=1))\n",
    "\n",
    "print(New.info())\n",
    "\n",
    "##Never got these working\n",
    "\n",
    "#New['EvBehind']=New.apply(lambda row: any(New[:,'Behind1':'Behind6']))\n",
    "#for row in New.iterrows():\n",
    "    #if any(New.loc[:,'Behind1':'Behind6'] >=1):\n",
    "      #  New['EvBehind']=1 \n",
    "#for row in New.iterrows():\n",
    "    #New['AvgPayTime'] = New.loc[:,'PAY_1':'PAY_6'].mean()\n",
    "    "
   ]
  },
  {
   "cell_type": "code",
   "execution_count": 7,
   "id": "aa71c2ef",
   "metadata": {
    "scrolled": true
   },
   "outputs": [
    {
     "name": "stdout",
     "output_type": "stream",
     "text": [
      "Monthly aggregate customer bills have increased from: 1166152812 to  1536699927 over the period\n",
      "This is an increase of 0.3177517656236634 percent.\n",
      "\n",
      "Monthly aggregate customer payments have increased from: 156465077 to  169907415 over the period\n",
      "This is an increase of 0.08591270498016627 percent.\n",
      "Customer average debt usage (calculated as Monthly Bill % of Limit) steadily increased over the period from 0.31858494825363615 to 0.42377145132492255\n",
      "\n",
      " This is an increase of 0.3301678363898847 percent\n"
     ]
    },
    {
     "data": {
      "image/png": "[encoded data removed]",
      "text/plain": [
       "<Figure size 432x288 with 1 Axes>"
      ]
     },
     "metadata": {
      "needs_background": "light"
     },
     "output_type": "display_data"
    }
   ],
   "source": [
    "### Gross/net borrowing $ figures per month\n",
    "Monthly=['Sept','Aug','Jul','Jun','May','Apr']\n",
    "\n",
    "Total_Bill=New.iloc[:,10:16].sum() ## Not what I intended to do, but this is total billed amount per period\n",
    "Total_Paid=New.iloc[:,16:22].sum() ## Paid for each month\n",
    "\n",
    "## While customer bills have increased steadily, their payments have not followed suit, i.e. Credit One more exposed\n",
    "sns.lineplot(x=Monthly, y=Total_Bill, data=Total_Bill, label='Customer Billings')\n",
    "sns.lineplot(x=Monthly, y=Total_Paid, data=Total_Paid, label='Customer Payments')\n",
    "print('Monthly aggregate customer bills have increased from:',Total_Bill[5],'to ',Total_Bill[0],'over the period')\n",
    "print('This is an increase of',((Total_Bill[0]-Total_Bill[5])/Total_Bill[5]), 'percent.')\n",
    "print('\\nMonthly aggregate customer payments have increased from:',Total_Paid[5],'to ',Total_Paid[0],'over the period')\n",
    "print('This is an increase of',((Total_Paid[0]-Total_Paid[5])/Total_Paid[5]), 'percent.')\n",
    "\n",
    "## Trending analysis of customers behind at least 1 month, for any given month\n",
    "\n",
    "New['Behind1'].value_counts()\n",
    "New['Behind2'].value_counts()\n",
    "New['Behind3'].value_counts()\n",
    "New['Behind4'].value_counts()\n",
    "New['Behind5'].value_counts()\n",
    "New['Behind6'].value_counts()\n",
    "\n",
    "print('Customer average debt usage (calculated as Monthly Bill % of Limit) steadily increased over the period from',\n",
    "     New['Debt_Usage6'].mean(),'to',New['Debt_Usage1'].mean())\n",
    "print('\\n This is an increase of',(New['Debt_Usage1'].mean()-New['Debt_Usage6'].mean())/New['Debt_Usage6'].mean(),'percent')\n",
    "\n",
    "#print(New['Behind1'].value_counts()) ##6818 late\n",
    "#print(New['Behind2'].value_counts()) ##4438\n",
    "#print(New['Behind3'].value_counts()) ##4213\n",
    "#print(New['Behind4'].value_counts()) ##3510\n",
    "#print(New['Behind5'].value_counts()) ##2968\n",
    "#print(New['Behind6'].value_counts()) #3070\n",
    "\n",
    "#print('Credit One customers have a total credit limit of',(New['LIMIT_BAL'].sum()))\n",
    "#print((Total_Bill[5])/(New['LIMIT_BAL'].sum()))\n",
    "\n",
    "#print(New['Debt_Usage1'].mean())\n",
    "#print(New['Debt_Usage2'].mean())\n",
    "#print(New['Debt_Usage3'].mean())\n",
    "#print(New['Debt_Usage4'].mean())\n",
    "#print(New['Debt_Usage5'].mean())\n",
    "#print(New['Debt_Usage6'].mean())\n"
   ]
  },
  {
   "cell_type": "code",
   "execution_count": null,
   "id": "ab4722b2",
   "metadata": {},
   "outputs": [],
   "source": [
    "## Split into two different dataframes to ease comparative analysis later\n",
    "InDefault = New[New['def_next_default'] == 1]\n",
    "NoDefault = New[New['def_next_default'] == 0]\n",
    "\n",
    "#InDefault.describe()\n",
    "\n",
    "##Seaborn Visualizations, Groupbys, and Findings THereof\n",
    "\n",
    "#Age\n",
    "#sns.violinplot(x='def_next_default', y='AGE', data=New) ## Violins look similarly same\n",
    "#sns.boxplot(x=data['def_next_default'], y='AGE', data=New) ## No material difference in age b/w default status\n",
    "#sns.stripplot(x='def_next_default', y=data['AGE'], data=New) ## Likewise, thus age appears to be little factor\n",
    "#sns.displot(data, x=\"AGE\", hue=\"def_next_default\", bins=15, element=\"step\") ## Both distributions skew right\n",
    "#print(New['AGE'].groupby(New['def_next_default']).describe()) #Mean age almost identical for default/non-default\n",
    "\n",
    "#Education -- CIRCLE BACK\n",
    "## Need percents and/or normalize against total counts of college incidence, b/c this suggests College Plus\n",
    "## Or look into ordinal encoding of Education level?\n",
    "#sns.catplot('def_next_default', hue='ED_CollegePlus', data=New, kind='count') \n",
    "\n",
    "#Gender - Those in Default are less likely to be female (0.567 vs. 0.614) but may not be stat. significant?\n",
    "#sns.violinplot(x='def_next_default', y='SEX_female', data=New)\n",
    "#sns.violinplot(x='SEX_female', y='def_next_default', data=New)\n",
    "#print(New['SEX_female'].groupby(New['def_next_default']).describe())\n",
    "\n",
    "#Limit_BAL - Those Not in Default have higher Limits overall 178K vs. 130K\n",
    "#sns.boxplot(y='LIMIT_BAL', x='def_next_default', data=New, showfliers=False)\n",
    "#print(New['LIMIT_BAL'].groupby(New['def_next_default']).describe())\n",
    "\n",
    "#Debt_UsageAVG - Shows those defaulting indeed carry bills that are a larger share of total credit limit\n",
    "#sns.boxplot(y='Debt_UsageAVG', x='def_next_default', data=New, showfliers=False)\n",
    "#print(New['Debt_UsageAVG'].groupby(New['def_next_default']).describe())\n",
    "\n",
    "#Net_Borrow - Almost identical Net_Borrow means for both segments, slightly more for Default\n",
    "#sns.boxplot(y='Net_Borrow', x='def_next_default', data=New, showfliers=False)\n",
    "#print(New['Net_Borrow'].groupby(New['def_next_default']).describe())\n",
    "\n",
    "#AvgPayTime - Those Not in Default have sig. lower payment code (mean of -0.33 vs. 0.33; median of 0 vs. 0.33)\n",
    "#sns.boxplot(y='AvgPayTime', x='def_next_default', data=New, showfliers=False)\n",
    "#print(New['AvgPayTime'].groupby(New['def_next_default']).describe())\n",
    "\n",
    "#EvBehind - Those in Default have mean of .64 vs. 0.24; Violin plot shows Non-defaults also fall behind on payments\n",
    "#sns.violinplot(y=New['EvBehind'], x='def_next_default', data=New)\n",
    "#print(New['EvBehind'].groupby(New['def_next_default']).describe())\n",
    "\n",
    "#ED_CollegePlus - Those in Default have mean of .64 vs. 0.24; Violin plot shows Non-defaults also fall behind on payments\n",
    "#sns.violinplot(y=New['ED_CollegePlus'], x='def_next_default', data=New)\n",
    "#print(New['ED_CollegePlus'].groupby(New['def_next_default']).describe())\n",
    "\n",
    "#Previous Relationship - Those in Default marginally more likely to have one..Mean 0.50 vs. 0.46\n",
    "#sns.violinplot(y='PrevRel', x='def_next_default', data=New)\n",
    "#print(New['PrevRel'].groupby(New['def_next_default']).describe())\n",
    "#print(New['def_next_default'].groupby(New['PrevRel']).describe())"
   ]
  },
  {
   "cell_type": "code",
   "execution_count": null,
   "id": "cbbdbc49",
   "metadata": {},
   "outputs": [],
   "source": [
    "## Correlation Matrix\n",
    "\n",
    "Summary=New[['ID','def_next_default','LIMIT_BAL','AGE','SEX_female','Debt_UsageAVG','Total_Bill','Total_Paid','Net_Borrow',\n",
    "           'ED_CollegePlus','PrevRel','EvBehind','AvgPayTime']].copy().astype(int)\n",
    "\n",
    "corr = Summary.corr().reset_index()\n",
    "print(corr)\n",
    "\n",
    "sns.heatmap(Summary.corr(),vmin=-1, vmax=1, cmap='BrBG', center=0);\n",
    "\n",
    "#sns.set_theme(style=\"white\")\n",
    "#cmap = sns.diverging_palette(230, 20, as_cmap=True)\n",
    "#mask = np.triu(np.ones_like(corr, dtype=bool))\n",
    "#f, ax = plt.subplots(figsize=(11, 9))\n",
    "#sns.heatmap(corr, mask=mask, cmap=cmap, vmax=.3, center=0,\n",
    "            #square=True, linewidths=.5, cbar_kws={\"shrink\": .5})\n",
    "\n",
    "\n",
    "\n"
   ]
  },
  {
   "cell_type": "code",
   "execution_count": null,
   "id": "7d71c802",
   "metadata": {},
   "outputs": [],
   "source": [
    "## Payment status for each month\n",
    "## -2: No spending; -1: Paid in full; 0: The use of revolving credit; 1 = payment delay\n",
    "# for one month; 2 = payment delay for two months; . . .; 8 = payment delay for eight months\n",
    "\n",
    "#print(data['PAY_1'].groupby(data['def_next_default']).value_counts())\n",
    "## This shows 954 customers with PAY_1 status of \"Paid in full\" that are still  default?\n",
    "\n",
    "#Pay1=data['def_next_default'].groupby(data['PAY_1']).value_counts()\n",
    "#print(Pay1)\n",
    "\n",
    "fgs = sns.catplot(x='PAY_1', data=New, kind='count', aspect=1.5, hue=\"def_next_default\")\n",
    "fgs.set_xlabels('Sept 2005 Payment Status')\n",
    "fgs = sns.catplot(x='PAY_2', data=New, kind='count', aspect=1.5, hue=\"def_next_default\")\n",
    "fgs.set_xlabels('Aug 2005')\n",
    "fgs = sns.catplot(x='PAY_3', data=New, kind='count', aspect=1.5, hue=\"def_next_default\")\n",
    "fgs.set_xlabels('July 2005')\n",
    "fgs = sns.catplot(x='PAY_4', data=New, kind='count', aspect=1.5, hue=\"def_next_default\")\n",
    "fgs.set_xlabels('June 2005')\n",
    "fgs = sns.catplot(x='PAY_5', data=New, kind='count', aspect=1.5, hue=\"def_next_default\")\n",
    "fgs.set_xlabels('May 2005')\n",
    "fgs = sns.catplot(x='PAY_6', data=New, kind='count', aspect=1.5, hue=\"def_next_default\")\n",
    "fgs.set_xlabels('April 2005')\n",
    "\n",
    "#fg.set_xlabels('Sept 2005 Payment Status') ## Good standing PAY_1 status [-2,0] still has customers in default\n",
    "\n",
    "# Not all 1+ month late customers are deemed in default, even some 2 and 3 months\n",
    "## ---> QUESTION IS WHAT DEEMS THEM IN DEFAULT\n"
   ]
  }
 ],
 "metadata": {
  "kernelspec": {
   "display_name": "Python 3 (ipykernel)",
   "language": "python",
   "name": "python3"
  },
  "language_info": {
   "codemirror_mode": {
    "name": "ipython",
    "version": 3
   },
   "file_extension": ".py",
   "mimetype": "text/x-python",
   "name": "python",
   "nbconvert_exporter": "python",
   "pygments_lexer": "ipython3",
   "version": "3.9.12"
  }
 },
 "nbformat": 4,
 "nbformat_minor": 5
}
